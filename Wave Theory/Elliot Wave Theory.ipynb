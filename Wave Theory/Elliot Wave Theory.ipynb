{
 "cells": [
  {
   "cell_type": "markdown",
   "metadata": {},
   "source": [
    "### History\n",
    "\n",
    "- 1938: it's devised by Ralph N. Elliot in a book \"The Wave Principle\"\n",
    "- 1946: it's elaborated in his another book \"Nature's Laws: The Secret of the Universe\"\n",
    "- 1978: it's popularized by Robert Prechter and A.J. Frost in their book \"Elliot Wave Principle: Key to Market Behavior\"\n",
    "\n",
    "### Related Mathematic Staff\n",
    "\n",
    "- Benoit Mandelbrot's fractal nature\n",
    "-  360/2  =   180; 1 + 8 + 0     = 9\n",
    "-  180/2  =    90; 9 + 0         = 9\n",
    "-   90/2  =    45; 4 + 5         = 9\n",
    "-   45/2  =  22.5; 2 + 2 + 5     = 9\n",
    "- 22.5/2  = 11.25; 1 + 1 + 2 + 5 = 9\n",
    "- 11.25/2 = 5.625; 5 + 6 + 2 + 5 = 18, etc.\n",
    "\n",
    "### A major problem with Elliott Wave Theory\n",
    "\n",
    "- No definitive way to count waves"
   ]
  },
  {
   "cell_type": "markdown",
   "metadata": {},
   "source": []
  }
 ],
 "metadata": {
  "kernelspec": {
   "display_name": "Python 3",
   "language": "python",
   "name": "python3"
  },
  "language_info": {
   "codemirror_mode": {
    "name": "ipython",
    "version": 3
   },
   "file_extension": ".py",
   "mimetype": "text/x-python",
   "name": "python",
   "nbconvert_exporter": "python",
   "pygments_lexer": "ipython3",
   "version": "3.7.3"
  }
 },
 "nbformat": 4,
 "nbformat_minor": 2
}
